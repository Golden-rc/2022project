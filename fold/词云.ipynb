{
 "cells": [
  {
   "cell_type": "code",
   "execution_count": 1,
   "id": "ffe625c4",
   "metadata": {},
   "outputs": [],
   "source": [
    "import wordcloud"
   ]
  },
  {
   "cell_type": "code",
   "execution_count": 5,
   "id": "a2344c78",
   "metadata": {},
   "outputs": [],
   "source": [
    "f = open('C:\\\\Users\\\\JRC\\\\Desktop\\\\survey_results_public.txt','r',encoding = 'utf-8')"
   ]
  },
  {
   "cell_type": "code",
   "execution_count": 10,
   "id": "b6c90aa7",
   "metadata": {},
   "outputs": [],
   "source": [
    "txt = f.read()"
   ]
  },
  {
   "cell_type": "code",
   "execution_count": 11,
   "id": "3bac31c7",
   "metadata": {},
   "outputs": [],
   "source": [
    "wordcloud = wordcloud.WordCloud(background_color=\"white\",\n",
    "                      width = 800,\n",
    "                      height = 600,\n",
    "                      contour_color = 'steelblue',\n",
    "                      ).generate(txt)"
   ]
  },
  {
   "cell_type": "code",
   "execution_count": 12,
   "id": "4740c781",
   "metadata": {},
   "outputs": [
    {
     "data": {
      "text/plain": [
       "<wordcloud.wordcloud.WordCloud at 0x1fc8346a860>"
      ]
     },
     "execution_count": 12,
     "metadata": {},
     "output_type": "execute_result"
    }
   ],
   "source": [
    "wordcloud.to_file('词云图.png')"
   ]
  },
  {
   "cell_type": "code",
   "execution_count": null,
   "id": "b4d6c49b",
   "metadata": {},
   "outputs": [],
   "source": []
  },
  {
   "cell_type": "code",
   "execution_count": null,
   "id": "d20dff5d",
   "metadata": {},
   "outputs": [],
   "source": []
  },
  {
   "cell_type": "code",
   "execution_count": null,
   "id": "1b892b2f",
   "metadata": {},
   "outputs": [],
   "source": []
  },
  {
   "cell_type": "code",
   "execution_count": null,
   "id": "1a008665",
   "metadata": {},
   "outputs": [],
   "source": []
  },
  {
   "cell_type": "code",
   "execution_count": null,
   "id": "def2d68a",
   "metadata": {},
   "outputs": [],
   "source": []
  }
 ],
 "metadata": {
  "kernelspec": {
   "display_name": "Python 3 (ipykernel)",
   "language": "python",
   "name": "python3"
  },
  "language_info": {
   "codemirror_mode": {
    "name": "ipython",
    "version": 3
   },
   "file_extension": ".py",
   "mimetype": "text/x-python",
   "name": "python",
   "nbconvert_exporter": "python",
   "pygments_lexer": "ipython3",
   "version": "3.10.7"
  }
 },
 "nbformat": 4,
 "nbformat_minor": 5
}
